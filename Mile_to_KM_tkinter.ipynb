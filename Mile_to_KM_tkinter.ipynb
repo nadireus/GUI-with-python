{
  "nbformat": 4,
  "nbformat_minor": 0,
  "metadata": {
    "colab": {
      "name": "Mile_to_KM_tkinter.ipynb",
      "provenance": [],
      "authorship_tag": "ABX9TyMzCDcmUIdGWQZOKLPkdHHh",
      "include_colab_link": true
    },
    "kernelspec": {
      "name": "python3",
      "display_name": "Python 3"
    },
    "language_info": {
      "name": "python"
    }
  },
  "cells": [
    {
      "cell_type": "markdown",
      "metadata": {
        "id": "view-in-github",
        "colab_type": "text"
      },
      "source": [
        "<a href=\"https://colab.research.google.com/github/nadireus/GUI-with-python/blob/main/Mile_to_KM_tkinter.ipynb\" target=\"_parent\"><img src=\"https://colab.research.google.com/assets/colab-badge.svg\" alt=\"Open In Colab\"/></a>"
      ]
    },
    {
      "cell_type": "code",
      "source": [
        "!apt-get install -y xvfb # Install X Virtual Frame Buffer\n",
        "import os\n",
        "os.system('Xvfb :1 -screen 0 1600x1200x16  &')    # create virtual display with size 1600x1200 and 16 bit color. Color can be changed to 24 or 8\n",
        "os.environ['DISPLAY']=':1.0'    # tell X clients to use our virtual DISPLAY :1.0"
      ],
      "metadata": {
        "colab": {
          "base_uri": "https://localhost:8080/"
        },
        "id": "p4dCeG-fneAv",
        "outputId": "de8b2321-8e88-4fe1-cedc-bae981dbb8e7"
      },
      "execution_count": null,
      "outputs": [
        {
          "output_type": "stream",
          "name": "stdout",
          "text": [
            "Reading package lists... Done\n",
            "Building dependency tree       \n",
            "Reading state information... Done\n",
            "The following package was automatically installed and is no longer required:\n",
            "  libnvidia-common-470\n",
            "Use 'apt autoremove' to remove it.\n",
            "The following NEW packages will be installed:\n",
            "  xvfb\n",
            "0 upgraded, 1 newly installed, 0 to remove and 39 not upgraded.\n",
            "Need to get 784 kB of archives.\n",
            "After this operation, 2,271 kB of additional disk space will be used.\n",
            "Get:1 http://archive.ubuntu.com/ubuntu bionic-updates/universe amd64 xvfb amd64 2:1.19.6-1ubuntu4.10 [784 kB]\n",
            "Fetched 784 kB in 1s (1,257 kB/s)\n",
            "Selecting previously unselected package xvfb.\n",
            "(Reading database ... 155320 files and directories currently installed.)\n",
            "Preparing to unpack .../xvfb_2%3a1.19.6-1ubuntu4.10_amd64.deb ...\n",
            "Unpacking xvfb (2:1.19.6-1ubuntu4.10) ...\n",
            "Setting up xvfb (2:1.19.6-1ubuntu4.10) ...\n",
            "Processing triggers for man-db (2.8.3-2ubuntu0.1) ...\n"
          ]
        }
      ]
    },
    {
      "cell_type": "code",
      "execution_count": null,
      "metadata": {
        "colab": {
          "base_uri": "https://localhost:8080/"
        },
        "id": "a-8RsidmmwER",
        "outputId": "d627b3ea-efe5-42ff-f709-b913fb313179"
      },
      "outputs": [
        {
          "output_type": "stream",
          "name": "stdout",
          "text": [
            "\n"
          ]
        }
      ],
      "source": [
        "from tkinter import *\n",
        "\n",
        "\n",
        "def button_clicked():\n",
        "    print(\"I got clicked\")\n",
        "    new_text = input.get()\n",
        "    my_label.config(text=new_text)\n",
        "\n",
        "\n",
        "window = Tk()\n",
        "window.title(\" GUI Program\")\n",
        "window.minsize(width=500, height=300)\n",
        "window.config(padx=100, pady=200)\n",
        "\n",
        "#Label\n",
        "my_label = Label(text=\"I Am a Label\", font=(\"Arial\", 24, \"bold\"))\n",
        "my_label.config(text=\"New Text\")\n",
        "my_label.grid(column=0, row=0)\n",
        "my_label.config(padx=50, pady=50)\n",
        "\n",
        "#Button\n",
        "button = Button(text=\"Click Me\", command=button_clicked)\n",
        "button.grid(column=1, row=1)\n",
        "\n",
        "new_button = Button(text=\"New Button\")\n",
        "new_button.grid(column=2, row=0)\n",
        "\n",
        "#Entry\n",
        "input = Entry(width=10)\n",
        "print(input.get())\n",
        "input.grid(column=3, row=2)\n",
        "\n",
        "\n",
        "\n",
        "\n",
        "\n",
        "\n",
        "\n",
        "\n",
        "\n",
        "window.mainloop()"
      ]
    }
  ]
}